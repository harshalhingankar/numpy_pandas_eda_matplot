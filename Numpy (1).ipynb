{
  "nbformat": 4,
  "nbformat_minor": 0,
  "metadata": {
    "colab": {
      "provenance": []
    },
    "kernelspec": {
      "name": "python3",
      "display_name": "Python 3"
    },
    "language_info": {
      "name": "python"
    }
  },
  "cells": [
    {
      "cell_type": "code",
      "execution_count": 3,
      "metadata": {
        "id": "8Otw9ZGKdopo"
      },
      "outputs": [],
      "source": [
        "# 1. What is a Python library? Why ^o we use Python libraries?\n",
        "#A Python library is a collection of pre-written code that provides functionality to perform specific tasks or solve certain problems. These libraries contain modules, functions, classes, and constants that can be imported and used in your Python programs."
      ]
    },
    {
      "cell_type": "code",
      "source": [
        "# 2. What is the ^ifference between Numpy array an^ List?\n",
        "## NumPy arrays and Python lists are both used to store collections of data, but they have several differences:\n",
        "\n",
        "#1. Data Type: In Python lists, elements can be of different data types (e.g., integers, strings, lists, etc.). However, NumPy arrays are homogeneous, meaning all elements must be of the same data type. This homogeneity allows for more efficient storage and operations on NumPy arrays.\n",
        "\n",
        "##2. Performance: NumPy arrays are more efficient than Python lists for numerical operations, especially for large datasets. NumPy arrays are implemented in C and are optimized for performance, whereas Python lists are more flexible but slower due to their dynamic nature.\n",
        "\n",
        "#3. Memory Efficiency: NumPy arrays consume less memory compared to Python lists, primarily because NumPy arrays are stored in contiguous memory blocks, whereas Python lists are arrays of pointers to objects stored elsewhere in memory.\n",
        "\n",
        "#4. Functionality: NumPy arrays provide a wide range of mathematical functions and operations optimized for array-based computing, such as element-wise operations, matrix multiplication, statistical functions, and linear algebra operations. Python lists offer general-purpose functionality but lack the specialized numerical capabilities of NumPy arrays.\n",
        "\n",
        "#5. Indexing and Slicing: Both NumPy arrays and Python lists support indexing and slicing, but NumPy arrays offer more advanced indexing techniques, such as boolean indexing, fancy indexing, and multidimensional slicing.\n",
        "\n"
      ],
      "metadata": {
        "id": "kO7fvmdxeH7t"
      },
      "execution_count": 4,
      "outputs": []
    },
    {
      "cell_type": "code",
      "source": [
        "# 3. Fin^ the shape, size an^ ^imension of the following array?\n",
        "\n",
        "import numpy as np\n",
        "\n",
        "\n",
        "arr = np.array([[1, 2, 3, 4],\n",
        "                [5, 6, 7, 8],\n",
        "                [9, 10, 11, 12]])\n",
        "\n",
        "shape = arr.shape\n",
        "size = arr.size\n",
        "dimensions = arr.ndim\n",
        "\n",
        "print(\"Shape of the array:\", shape)\n",
        "print(\"Size of the array:\", size)\n",
        "print(\"Dimensions of the array:\", dimensions)\n"
      ],
      "metadata": {
        "colab": {
          "base_uri": "https://localhost:8080/"
        },
        "id": "-QsRuv-pexVp",
        "outputId": "2cbadda1-4426-4901-ea22-0ea18cc1597f"
      },
      "execution_count": 5,
      "outputs": [
        {
          "output_type": "stream",
          "name": "stdout",
          "text": [
            "Shape of the array: (3, 4)\n",
            "Size of the array: 12\n",
            "Dimensions of the array: 2\n"
          ]
        }
      ]
    },
    {
      "cell_type": "code",
      "source": [
        "# 4. Write python co^e to access the first row of the following array?\n",
        "\n",
        "import numpy as np\n",
        "\n",
        "arr = np.array([[1, 2, 3, 4],\n",
        "                [5, 6, 7, 8],\n",
        "                [9, 10, 11, 12]])\n",
        "\n",
        "first_row = arr[0]\n",
        "\n",
        "\n",
        "print(\"First row of the array:\", first_row)\n"
      ],
      "metadata": {
        "colab": {
          "base_uri": "https://localhost:8080/"
        },
        "id": "yeFeooBSe70F",
        "outputId": "72a43fe8-eb7f-43e4-b01f-04a4948747fb"
      },
      "execution_count": 6,
      "outputs": [
        {
          "output_type": "stream",
          "name": "stdout",
          "text": [
            "First row of the array: [1 2 3 4]\n"
          ]
        }
      ]
    },
    {
      "cell_type": "code",
      "source": [
        "# 5. How ^o you access the element at the thir^ row an^ fourth column from the given numpy array?\n",
        "\n",
        "import numpy as np\n",
        "\n",
        "\n",
        "arr = np.array([[1, 2, 3, 4],\n",
        "                [5, 6, 7, 8],\n",
        "                [9, 10, 11, 12]])\n",
        "\n",
        "\n",
        "element = arr[2, 3]\n",
        "\n",
        "print(\"Element at the third row and fourth column:\", element)\n"
      ],
      "metadata": {
        "colab": {
          "base_uri": "https://localhost:8080/"
        },
        "id": "wZ1_4jfbfFT9",
        "outputId": "8aeec3ae-a1f0-43f1-a528-4f6dc6fb2109"
      },
      "execution_count": 7,
      "outputs": [
        {
          "output_type": "stream",
          "name": "stdout",
          "text": [
            "Element at the third row and fourth column: 12\n"
          ]
        }
      ]
    },
    {
      "cell_type": "code",
      "source": [
        "## 6. Write co^e to extract all o^^-in^exe^ elements from the given numpy array?\n",
        "\n",
        "import numpy as np\n",
        "\n",
        "\n",
        "arr = np.array([[1, 2, 3, 4],\n",
        "                [5, 6, 7, 8],\n",
        "                [9, 10, 11, 12]])\n",
        "\n",
        "odd_indexed_elements = arr[:, 1::2]\n",
        "\n",
        "print(\"Odd-indexed elements from the array:\")\n",
        "print(odd_indexed_elements)\n"
      ],
      "metadata": {
        "colab": {
          "base_uri": "https://localhost:8080/"
        },
        "id": "B4YH_NrNfRfd",
        "outputId": "6598ea18-66a8-4eca-83eb-cf75e1f01776"
      },
      "execution_count": 8,
      "outputs": [
        {
          "output_type": "stream",
          "name": "stdout",
          "text": [
            "Odd-indexed elements from the array:\n",
            "[[ 2  4]\n",
            " [ 6  8]\n",
            " [10 12]]\n"
          ]
        }
      ]
    },
    {
      "cell_type": "code",
      "source": [
        "## 7. How can you generate a ran^om 3x3 matrix with values between 0 an^ 1?\n",
        "\n",
        "import numpy as np\n",
        "\n",
        "random_matrix = np.random.random((3, 3))\n",
        "\n",
        "print(\"Random 3x3 matrix with values between 0 and 1:\")\n",
        "print(random_matrix)\n"
      ],
      "metadata": {
        "colab": {
          "base_uri": "https://localhost:8080/"
        },
        "id": "O0GPeEjFfY67",
        "outputId": "8fdc2a4c-f2b3-4980-b38c-f734b6437969"
      },
      "execution_count": 9,
      "outputs": [
        {
          "output_type": "stream",
          "name": "stdout",
          "text": [
            "Random 3x3 matrix with values between 0 and 1:\n",
            "[[0.02097671 0.81880643 0.87193058]\n",
            " [0.08572989 0.33078497 0.98389441]\n",
            " [0.24722188 0.19692073 0.29141406]]\n"
          ]
        }
      ]
    },
    {
      "cell_type": "code",
      "source": [
        "## 8. Describe the ^ifference between np.ran^om.ran^ an^ np.ran^om.ran^n?\n",
        "\n",
        "# 1. np.random.rand:\n",
        "#    This function generates random numbers from a uniform distribution over the interval [0, 1).\n",
        "#    Each number in the output array is sampled independently and uniformly from the interval [0, 1).\n",
        "#    The shape of the output array is determined by the arguments passed to the function.\n",
        "\n",
        "# 2. np.random.randn:\n",
        "#    This function generates random numbers from a standard normal distribution (mean = 0, standard deviation = 1).\n",
        "#   The numbers produced by `np.random.randn` follow a bell-shaped curve centered around 0, with the majority of values closer to 0 and tapering off towards the extremes.\n",
        "#    Unlike `np.random.rand`, `np.random.randn` takes the dimensions of the desired output array as individual arguments, rather than a tuple representing the shape.\n",
        "\n"
      ],
      "metadata": {
        "id": "abpzoADVfkMe"
      },
      "execution_count": 10,
      "outputs": []
    },
    {
      "cell_type": "code",
      "source": [
        "## 9. Write co^e to increase the ^imension of the following array?\n",
        "\n",
        "import numpy as np\n",
        "\n",
        "arr = np.array([[1, 2, 3, 4],\n",
        "                [5, 6, 7, 8],\n",
        "                [9, 10, 11, 12]])\n",
        "\n",
        "\n",
        "increased_dimension_array = arr.reshape(3, 4, 1)\n",
        "\n",
        "\n",
        "print(\"Array with increased dimension:\")\n",
        "print(increased_dimension_array)\n"
      ],
      "metadata": {
        "colab": {
          "base_uri": "https://localhost:8080/"
        },
        "id": "bbJBIKkUf59P",
        "outputId": "867e3ab7-31e1-4fa6-8b68-1a9fcd152f0b"
      },
      "execution_count": 11,
      "outputs": [
        {
          "output_type": "stream",
          "name": "stdout",
          "text": [
            "Array with increased dimension:\n",
            "[[[ 1]\n",
            "  [ 2]\n",
            "  [ 3]\n",
            "  [ 4]]\n",
            "\n",
            " [[ 5]\n",
            "  [ 6]\n",
            "  [ 7]\n",
            "  [ 8]]\n",
            "\n",
            " [[ 9]\n",
            "  [10]\n",
            "  [11]\n",
            "  [12]]]\n"
          ]
        }
      ]
    },
    {
      "cell_type": "code",
      "source": [
        "## 10. How to transpose the following array in NumPy?\n",
        "\n",
        "import numpy as np\n",
        "\n",
        "\n",
        "arr = np.array([[1, 2, 3, 4],\n",
        "                [5, 6, 7, 8],\n",
        "                [9, 10, 11, 12]])\n",
        "\n",
        "transposed_array = np.transpose(arr)\n",
        "\n",
        "print(\"Transposed array:\")\n",
        "print(transposed_array)\n"
      ],
      "metadata": {
        "colab": {
          "base_uri": "https://localhost:8080/"
        },
        "id": "h9KmEIBagEi1",
        "outputId": "09148ad0-0e7c-4882-9c7e-57d4822e853c"
      },
      "execution_count": 12,
      "outputs": [
        {
          "output_type": "stream",
          "name": "stdout",
          "text": [
            "Transposed array:\n",
            "[[ 1  5  9]\n",
            " [ 2  6 10]\n",
            " [ 3  7 11]\n",
            " [ 4  8 12]]\n"
          ]
        }
      ]
    },
    {
      "cell_type": "code",
      "source": [
        "# ##11. Consi^er the following matrix:\n",
        "# Matrix A2 [[1, 2, 3, 4] [5, 6, 7, 8],[9, 10, 11, 12]]\n",
        "# Matrix B2 [[1, 2, 3, 4] [5, 6, 7, 8],[9, 10, 11, 12]]\n",
        "\n",
        "# Perform the following operation using Python1\n",
        "# Index wiLe multiplicatio'\n",
        "# Martix multiplicatio'\n",
        "# Additionboth the maticK\n",
        "# Subtraction matix B om\n",
        "# DivideMatix B by A\n",
        "\n",
        "import numpy as np\n",
        "\n",
        "# Define matrices A2 and B2 as NumPy arrays\n",
        "A2 = np.array([[1, 2, 3, 4],\n",
        "               [5, 6, 7, 8],\n",
        "               [9, 10, 11, 12]])\n",
        "\n",
        "B2 = np.array([[1, 2, 3, 4],\n",
        "               [5, 6, 7, 8],\n",
        "               [9, 10, 11, 12]])\n",
        "\n",
        "# Element-wise multiplication\n",
        "element_wise_multiplication = A2 * B2\n",
        "\n",
        "# Matrix multiplication\n",
        "matrix_multiplication = np.dot(A2, B2.T)\n",
        "\n",
        "# Addition of both matrices\n",
        "addition = A2 + B2\n",
        "\n",
        "# Subtraction of matrix B2 from matrix A2\n",
        "subtraction = A2 - B2\n",
        "\n",
        "# Division of matrix B2 by matrix A2\n",
        "division = np.divide(B2, A2)\n",
        "\n",
        "# Print the results\n",
        "print(\"Element-wise multiplication:\")\n",
        "print(element_wise_multiplication)\n",
        "\n",
        "print(\"\\nMatrix multiplication:\")\n",
        "print(matrix_multiplication)\n",
        "\n",
        "print(\"\\nAddition of both matrices:\")\n",
        "print(addition)\n",
        "\n",
        "print(\"\\nSubtraction of matrix B2 from matrix A2:\")\n",
        "print(subtraction)\n",
        "\n",
        "print(\"\\nDivision of matrix B2 by matrix A2:\")\n",
        "print(division)\n"
      ],
      "metadata": {
        "colab": {
          "base_uri": "https://localhost:8080/"
        },
        "id": "wYqi5-R-gOpn",
        "outputId": "7499c74e-49a8-4907-d343-370c28d5cd1b"
      },
      "execution_count": 13,
      "outputs": [
        {
          "output_type": "stream",
          "name": "stdout",
          "text": [
            "Element-wise multiplication:\n",
            "[[  1   4   9  16]\n",
            " [ 25  36  49  64]\n",
            " [ 81 100 121 144]]\n",
            "\n",
            "Matrix multiplication:\n",
            "[[ 30  70 110]\n",
            " [ 70 174 278]\n",
            " [110 278 446]]\n",
            "\n",
            "Addition of both matrices:\n",
            "[[ 2  4  6  8]\n",
            " [10 12 14 16]\n",
            " [18 20 22 24]]\n",
            "\n",
            "Subtraction of matrix B2 from matrix A2:\n",
            "[[0 0 0 0]\n",
            " [0 0 0 0]\n",
            " [0 0 0 0]]\n",
            "\n",
            "Division of matrix B2 by matrix A2:\n",
            "[[1. 1. 1. 1.]\n",
            " [1. 1. 1. 1.]\n",
            " [1. 1. 1. 1.]]\n"
          ]
        }
      ]
    },
    {
      "cell_type": "code",
      "source": [
        "## 12. Which function in Numpy can be use^ to swap the byte or^er of an array?\n",
        "\n",
        "import numpy as np\n",
        "\n",
        "\n",
        "arr = np.array([1, 256, 65536], dtype=np.int32)\n",
        "\n",
        "# Swap the byte order of the array\n",
        "swapped_arr = arr.byteswap()\n",
        "\n",
        "# Print the original and swapped arrays\n",
        "print(\"Original array:\", arr)\n",
        "print(\"Swapped array:\", swapped_arr)\n"
      ],
      "metadata": {
        "colab": {
          "base_uri": "https://localhost:8080/"
        },
        "id": "WnP77x0QgzZE",
        "outputId": "f463ee0e-678b-4629-c735-d9acf799d724"
      },
      "execution_count": 14,
      "outputs": [
        {
          "output_type": "stream",
          "name": "stdout",
          "text": [
            "Original array: [    1   256 65536]\n",
            "Swapped array: [16777216    65536      256]\n"
          ]
        }
      ]
    },
    {
      "cell_type": "code",
      "source": [
        "# 13. What is the significance of the np.linalg.inv function?\n",
        "\n",
        "# The np.linalg.inv function in NumPy is used to compute the multiplicative inverse of a square matrix. The significance of this function lies in its application in solving systems of linear equations, particularly in linear algebra.\n"
      ],
      "metadata": {
        "id": "F-d6mjH_g8qQ"
      },
      "execution_count": 15,
      "outputs": []
    },
    {
      "cell_type": "code",
      "source": [
        "## 14. What ^oes the np.reshape function ^o, an^ how is it use^?\n",
        "import numpy as np\n",
        "\n",
        "\n",
        "arr = np.array([1, 2, 3, 4, 5, 6])\n",
        "\n",
        "\n",
        "reshaped_arr = np.reshape(arr, (2, 3))\n",
        "\n",
        "\n",
        "print(\"Original array:\")\n",
        "print(arr)\n",
        "print(\"\\nReshaped array:\")\n",
        "print(reshaped_arr)\n"
      ],
      "metadata": {
        "colab": {
          "base_uri": "https://localhost:8080/"
        },
        "id": "Kns7zrwJhHT9",
        "outputId": "79cbec1e-3de4-4b2a-977e-c0907c62aef5"
      },
      "execution_count": 16,
      "outputs": [
        {
          "output_type": "stream",
          "name": "stdout",
          "text": [
            "Original array:\n",
            "[1 2 3 4 5 6]\n",
            "\n",
            "Reshaped array:\n",
            "[[1 2 3]\n",
            " [4 5 6]]\n"
          ]
        }
      ]
    },
    {
      "cell_type": "code",
      "source": [
        "# 15. What is broa^casting in Numpy?\n",
        "\n",
        "# Broadcasting in NumPy is a mechanism that allows arrays with different shapes to be combined together in arithmetic operations. It's a powerful feature that simplifies array operations and makes code more concise and readable.\n",
        "\n",
        "import numpy as np\n",
        "\n",
        "A = np.array([[1, 2, 3],\n",
        "              [4, 5, 6],\n",
        "              [7, 8, 9]])\n",
        "\n",
        "\n",
        "B = np.array([10, 20, 30])\n",
        "\n",
        "result = A + B\n",
        "\n",
        "\n",
        "print(result)\n"
      ],
      "metadata": {
        "colab": {
          "base_uri": "https://localhost:8080/"
        },
        "id": "Ulx8g2_3hPcr",
        "outputId": "dfb0d5af-20c5-442b-9e2b-4a3332737575"
      },
      "execution_count": 17,
      "outputs": [
        {
          "output_type": "stream",
          "name": "stdout",
          "text": [
            "[[11 22 33]\n",
            " [14 25 36]\n",
            " [17 28 39]]\n"
          ]
        }
      ]
    },
    {
      "cell_type": "code",
      "source": [],
      "metadata": {
        "id": "LVShjewQhZTH"
      },
      "execution_count": null,
      "outputs": []
    }
  ]
}